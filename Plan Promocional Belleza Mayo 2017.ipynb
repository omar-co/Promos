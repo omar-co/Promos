{
 "cells": [
  {
   "cell_type": "code",
   "execution_count": 356,
   "metadata": {
    "collapsed": true
   },
   "outputs": [],
   "source": [
    "import pandas as pd"
   ]
  },
  {
   "cell_type": "code",
   "execution_count": 357,
   "metadata": {
    "collapsed": true
   },
   "outputs": [],
   "source": [
    "import time\n",
    "\n",
    "start_time = time.time()"
   ]
  },
  {
   "cell_type": "code",
   "execution_count": 358,
   "metadata": {
    "collapsed": true
   },
   "outputs": [],
   "source": [
    "def cabecera_resumen_mot(row, format):\n",
    "    worksheet.write('A' + str(row), 'Categoría', format)\n",
    "    worksheet.write('B' + str(row), 'Cadena', format)\n",
    "    worksheet.write('C' + str(row), 'Si', format)\n",
    "    worksheet.write('D' + str(row), 'Si pero el precio no corresponde', format)\n",
    "    worksheet.write('E' + str(row), 'No ha caido la promoción', format)\n",
    "    worksheet.write('F' + str(row), 'No puedo señalizar', format)\n",
    "    worksheet.write('G' + str(row), 'No tengo suficiente producto', format)\n",
    "    worksheet.write('H' + str(row), 'No El gerente no me permite ejecutar', format)\n",
    "    worksheet.write('I' + str(row), 'No he ejecutado', format)\n",
    "    worksheet.write('J' + str(row), 'Ejecutado', format)\n",
    "    worksheet.write('K' + str(row), 'NO Ejecutado', format)\n",
    "    worksheet.write('L' + str(row), '% Ejecución', format)\n",
    "    worksheet.write('M' + str(row), '% No ha caido la promoción', format)\n",
    "    worksheet.write('N' + str(row), '% No puedo señalizar', format)\n",
    "    worksheet.write('O' + str(row), '% No tengo suficiente producto', format)\n",
    "    worksheet.write('P' + str(row), '% No El gerente no me permite ejecutar', format)\n",
    "    worksheet.write('Q' + str(row), '% No he ejecutado', format)"
   ]
  },
  {
   "cell_type": "code",
   "execution_count": 359,
   "metadata": {
    "collapsed": false
   },
   "outputs": [],
   "source": [
    "stores_file = 'C:\\\\Users\\\\gonzalezcoronado.o\\\\PycharmProjects\\\\Promos\\\\stores_clean.xlsx'"
   ]
  },
  {
   "cell_type": "code",
   "execution_count": 360,
   "metadata": {
    "collapsed": false
   },
   "outputs": [],
   "source": [
    "stores = pd.read_excel(stores_file, 0)"
   ]
  },
  {
   "cell_type": "code",
   "execution_count": 361,
   "metadata": {
    "collapsed": false
   },
   "outputs": [],
   "source": [
    "belleza = pd.read_excel('C:\\\\Users\\\\gonzalezcoronado.o\\\\PycharmProjects\\\\Promos\\\\Plan Promocional Belleza Mayo 2017.xlsx', 4, 2)"
   ]
  },
  {
   "cell_type": "code",
   "execution_count": 362,
   "metadata": {
    "collapsed": false
   },
   "outputs": [],
   "source": [
    "preguntas = belleza[['Categoría', 'NOMBRE DE LA INICIATIVA']]"
   ]
  },
  {
   "cell_type": "code",
   "execution_count": 363,
   "metadata": {
    "collapsed": false
   },
   "outputs": [],
   "source": [
    "iniciativa_belleza = pd.read_csv('C:\\\\Users\\\\gonzalezcoronado.o\\\\PycharmProjects\\\\Promos\\\\lecturas_iniciativa_11.csv', encoding='mbcs')"
   ]
  },
  {
   "cell_type": "code",
   "execution_count": 364,
   "metadata": {
    "collapsed": false
   },
   "outputs": [],
   "source": [
    "writter = pd.ExcelWriter('C:\\\\Users\\\\gonzalezcoronado.o\\\\PycharmProjects\\\\Promos\\\\RepPromoBelleza.xlsx')"
   ]
  },
  {
   "cell_type": "code",
   "execution_count": 365,
   "metadata": {
    "collapsed": false
   },
   "outputs": [],
   "source": [
    "iniciativas = iniciativa_belleza[\n",
    "    ['Cadena', 'Región', 'Zona', 'Tienda ID', 'Nombre Tienda', 'Fecha Captura', 'Grupo Categorias',\n",
    "     'Iniciativa', 'Apoyo', 'Respuesta Opc.Multiple/Texto Abierto']]"
   ]
  },
  {
   "cell_type": "code",
   "execution_count": 366,
   "metadata": {
    "collapsed": true
   },
   "outputs": [],
   "source": [
    "respuestas = iniciativas['Respuesta Opc.Multiple/Texto Abierto'].replace('1.Si\\r\\n2.No', 'Si')\n",
    "respuestas = respuestas.replace('he ejecutado\\r\\n6.No', 'No he ejecutado')\n",
    "respuestas = respuestas.replace('he ejecutado\\n6.No', 'No he ejecutado')\n",
    "respuestas = respuestas.replace('he ejecutado', 'No he ejecutado')\n",
    "respuestas = respuestas.replace('no tengo suficiente producto\\r\\n3.No', 'No tengo suficiente producto')\n",
    "respuestas = respuestas.replace('no tengo suficiente producto\\n3.No', 'No tengo suficiente producto')\n",
    "respuestas = respuestas.replace('no ha caido la promoción\\r\\n4.No', 'No ha caido la promoción')\n",
    "respuestas = respuestas.replace('no ha caido la promoción\\n4.No', 'No ha caido la promoción')\n",
    "respuestas = respuestas.replace('1.Si\\r\\n2.Si', 'Si')\n",
    "respuestas = respuestas.replace('1.Si\\n2.Si', 'Si')\n",
    "respuestas = respuestas.replace('1.Si\\n2.No', 'Si')\n",
    "respuestas = respuestas.replace('pero el precio no corresponde.  \\r\\n3.No', 'Si pero el precio no corresponde')\n",
    "respuestas = respuestas.replace('pero el precio no corresponde.  \\n3.No', 'Si pero el precio no corresponde')\n",
    "respuestas = respuestas.replace('no ha caido la promoción\\r\\n5.No', 'No ha caido la promoción')\n",
    "respuestas = respuestas.replace('no ha caido la promoción\\n5.No', 'No ha caido la promoción')\n",
    "respuestas = respuestas.replace('no tengo suficiente producto\\r\\n4.No', 'No tengo suficiente producto')\n",
    "respuestas = respuestas.replace('no tengo suficiente producto\\n4.No', 'No tengo suficiente producto')\n",
    "respuestas = respuestas.replace('no puedo señalizar\\r\\n5.No', 'No puedo señalizar')\n",
    "respuestas = respuestas.replace('no puedo señalizar\\r\\n6.No', 'No puedo señalizar')"
   ]
  },
  {
   "cell_type": "code",
   "execution_count": 367,
   "metadata": {
    "collapsed": false
   },
   "outputs": [],
   "source": [
    "iniciativas = iniciativas.join(respuestas, rsuffix='_respuestas')"
   ]
  },
  {
   "cell_type": "code",
   "execution_count": 368,
   "metadata": {
    "collapsed": true
   },
   "outputs": [],
   "source": [
    "preguntas_id = iniciativas['Apoyo'].str.extract(\"(?P<PreguntaID>\\w{5}\\d{1,3})(?P<Pregunta>¿.+)\", expand=False)"
   ]
  },
  {
   "cell_type": "code",
   "execution_count": 369,
   "metadata": {
    "collapsed": true
   },
   "outputs": [],
   "source": [
    "iniciativas = iniciativas.join(preguntas_id)"
   ]
  },
  {
   "cell_type": "code",
   "execution_count": 370,
   "metadata": {
    "collapsed": true
   },
   "outputs": [],
   "source": [
    "preguntas = preguntas.set_index('NOMBRE DE LA INICIATIVA')"
   ]
  },
  {
   "cell_type": "code",
   "execution_count": 371,
   "metadata": {
    "collapsed": true
   },
   "outputs": [],
   "source": [
    "iniciativas = iniciativas.join(preguntas, on='Pregunta')"
   ]
  },
  {
   "cell_type": "code",
   "execution_count": 372,
   "metadata": {
    "collapsed": true
   },
   "outputs": [],
   "source": [
    "stores = stores[['Stores ID', '# Sucursal Cliente', 'Cadena', 'Formato', 'Nombre Tienda', 'Estatus de Tienda', 'Canal']]"
   ]
  },
  {
   "cell_type": "code",
   "execution_count": 373,
   "metadata": {
    "collapsed": true
   },
   "outputs": [],
   "source": [
    "stores = stores.drop_duplicates()"
   ]
  },
  {
   "cell_type": "code",
   "execution_count": 374,
   "metadata": {
    "collapsed": true
   },
   "outputs": [],
   "source": [
    "iniciativas = iniciativas.join(stores.set_index('Stores ID'), on='Tienda ID', rsuffix='_stores')"
   ]
  },
  {
   "cell_type": "code",
   "execution_count": 375,
   "metadata": {
    "collapsed": true
   },
   "outputs": [],
   "source": [
    "columnas_iniciativas = iniciativas.columns"
   ]
  },
  {
   "cell_type": "code",
   "execution_count": 376,
   "metadata": {
    "collapsed": true
   },
   "outputs": [],
   "source": [
    "iniciativas = iniciativas.sort_values(by='Fecha Captura')"
   ]
  },
  {
   "cell_type": "code",
   "execution_count": 377,
   "metadata": {
    "collapsed": true
   },
   "outputs": [],
   "source": [
    "iniciativas = iniciativas.drop_duplicates(['Nombre Tienda', 'Pregunta'], keep='last').values"
   ]
  },
  {
   "cell_type": "code",
   "execution_count": 378,
   "metadata": {
    "collapsed": true
   },
   "outputs": [],
   "source": [
    "iniciativas = pd.DataFrame(iniciativas, columns=columnas_iniciativas)"
   ]
  },
  {
   "cell_type": "code",
   "execution_count": 379,
   "metadata": {
    "collapsed": false
   },
   "outputs": [],
   "source": [
    "data = iniciativas[['Canal', 'Categoría', 'Cadena', 'Región', 'Zona', 'Tienda ID', 'Nombre Tienda', 'Fecha Captura',\n",
    "                    'Iniciativa', 'Pregunta', 'Respuesta Opc.Multiple/Texto Abierto_respuestas']]"
   ]
  },
  {
   "cell_type": "code",
   "execution_count": 380,
   "metadata": {
    "collapsed": true
   },
   "outputs": [],
   "source": [
    "order = data.groupby(['Canal', 'Categoría', 'Cadena', 'Pregunta', 'Respuesta Opc.Multiple/Texto Abierto_respuestas'],\n",
    "                     as_index=False).count()"
   ]
  },
  {
   "cell_type": "code",
   "execution_count": 381,
   "metadata": {
    "collapsed": true
   },
   "outputs": [],
   "source": [
    "order = order[['Canal', 'Categoría', 'Cadena', 'Pregunta', 'Respuesta Opc.Multiple/Texto Abierto_respuestas', 'Zona']]"
   ]
  },
  {
   "cell_type": "code",
   "execution_count": 382,
   "metadata": {
    "collapsed": false
   },
   "outputs": [],
   "source": [
    "categorias = order.pivot_table(index=['Canal', 'Categoría', 'Cadena', 'Pregunta'],\n",
    "                               columns='Respuesta Opc.Multiple/Texto Abierto_respuestas', values='Zona', fill_value=0).reset_index(\n",
    "    ['Canal', 'Categoría', 'Cadena', 'Pregunta'])"
   ]
  },
  {
   "cell_type": "code",
   "execution_count": 383,
   "metadata": {
    "collapsed": false
   },
   "outputs": [],
   "source": [
    "categorias = categorias.assign(Ejecutado=(categorias['Si'] + categorias['Si pero el precio no corresponde']))"
   ]
  },
  {
   "cell_type": "code",
   "execution_count": 384,
   "metadata": {
    "collapsed": false
   },
   "outputs": [],
   "source": [
    "categorias = categorias.assign(No_Ejecutado=(\n",
    "    categorias['No ha caido la promoción'] + categorias['No he ejecutado'] + categorias['No puedo señalizar'] +\n",
    "    categorias['No tengo suficiente producto']))"
   ]
  },
  {
   "cell_type": "code",
   "execution_count": 385,
   "metadata": {
    "collapsed": true
   },
   "outputs": [],
   "source": [
    "categorias = categorias.assign(\n",
    "    Porcentaje_Ejecución=(categorias['Ejecutado'] / (categorias['Ejecutado'] + categorias['No_Ejecutado'])))"
   ]
  },
  {
   "cell_type": "code",
   "execution_count": 386,
   "metadata": {
    "collapsed": true
   },
   "outputs": [],
   "source": [
    "categorias = categorias.rename(columns={'No_Ejecutado': 'No Ejecutado', 'Porcentaje_Ejecución': '% Ejecución'})"
   ]
  },
  {
   "cell_type": "code",
   "execution_count": 387,
   "metadata": {
    "collapsed": false
   },
   "outputs": [],
   "source": [
    "categorias = categorias[['Canal', 'Categoría', 'Cadena', 'Pregunta', 'No El gerente no me permite ejecutar', \n",
    "                         'No ha caido la promoción', 'No he ejecutado', 'No puedo señalizar', 'No tengo suficiente producto', \n",
    "                         'Si', 'Si pero el precio no corresponde', 'Ejecutado', 'No Ejecutado', '% Ejecución']]"
   ]
  },
  {
   "cell_type": "code",
   "execution_count": 388,
   "metadata": {
    "collapsed": false,
    "scrolled": true
   },
   "outputs": [],
   "source": [
    "resumen_gos = data.groupby(['Respuesta Opc.Multiple/Texto Abierto_respuestas', 'Categoría'], as_index=False).count()\n",
    "resumen_gos = resumen_gos.pivot_table(index=['Respuesta Opc.Multiple/Texto Abierto_respuestas'], columns='Categoría',\n",
    "                                      values='Zona', fill_value=0)"
   ]
  },
  {
   "cell_type": "code",
   "execution_count": 389,
   "metadata": {
    "collapsed": false
   },
   "outputs": [],
   "source": [
    "sum_row = resumen_gos.sum()\n",
    "sum_row = pd.DataFrame(sum_row).T"
   ]
  },
  {
   "cell_type": "code",
   "execution_count": 390,
   "metadata": {
    "collapsed": false
   },
   "outputs": [],
   "source": [
    "resumen_gos = resumen_gos.append(sum_row)"
   ]
  },
  {
   "cell_type": "code",
   "execution_count": 391,
   "metadata": {
    "collapsed": false
   },
   "outputs": [],
   "source": [
    "resumen_gos['% Cuidado Femenino'] = (resumen_gos['Cuidado Femenino'] / resumen_gos.iloc[7,0])\n",
    "resumen_gos['% Cuidado Oral'] = (resumen_gos['Cuidado Oral'] / resumen_gos.iloc[7,1])\n",
    "resumen_gos['% Cuidado del Cabello'] = (resumen_gos['Cuidado del Cabello'] / resumen_gos.iloc[7,2])\n",
    "resumen_gos['% Desodorantes'] = (resumen_gos['Desodorantes'] / resumen_gos.iloc[7,3])\n",
    "resumen_gos['% Hojas y máquinas'] = (resumen_gos['Hojas y Máquinas'] / resumen_gos.iloc[7,4])\n",
    "resumen_gos = resumen_gos.iloc[0:7,0:10]\n",
    "resumen_gos.to_excel(writter, 'Resumen GOs')"
   ]
  },
  {
   "cell_type": "code",
   "execution_count": 392,
   "metadata": {
    "collapsed": false
   },
   "outputs": [],
   "source": [
    "active_row_names = ['No El gerente no me permite ejecutar', 'No ha caido la promoción', 'No tengo suficiente producto', \n",
    "                    'No puedo señalizar']\n",
    "active_filter = [row in active_row_names for row in resumen_gos.index]\n",
    "inactive_filter = [not row for row in active_filter]\n",
    "active = resumen_gos.loc[active_filter].sum()\n",
    "active  = pd.DataFrame(active).transpose()\n",
    "active.index=[\"NO, causal CT\"] \n",
    "segundo = resumen_gos.append(active, ignore_index=False)"
   ]
  },
  {
   "cell_type": "code",
   "execution_count": 393,
   "metadata": {
    "collapsed": true
   },
   "outputs": [],
   "source": [
    "active_row_names = ['Si', 'Si pero el precio no corresponde']\n",
    "active_filter = [row in active_row_names for row in segundo.index]\n",
    "inactive_filter = [not row for row in active_filter]\n",
    "active = resumen_gos.loc[active_filter].sum()\n",
    "active  = pd.DataFrame(active).transpose()\n",
    "active.index=[\"SI\"] \n",
    "segundo = segundo.loc[inactive_filter].append(active, ignore_index=False)"
   ]
  },
  {
   "cell_type": "code",
   "execution_count": 394,
   "metadata": {
    "collapsed": false
   },
   "outputs": [],
   "source": [
    "segundo = segundo.sort_index(1)"
   ]
  },
  {
   "cell_type": "code",
   "execution_count": 395,
   "metadata": {
    "collapsed": false
   },
   "outputs": [],
   "source": [
    "segundo = segundo[['Cuidado Femenino', 'Cuidado Oral', 'Cuidado del Cabello', 'Desodorantes', 'Hojas y Máquinas',  \n",
    "                   '% Cuidado Femenino', '% Cuidado Oral', '% Cuidado del Cabello', '% Desodorantes', '% Hojas y máquinas']]"
   ]
  },
  {
   "cell_type": "code",
   "execution_count": 396,
   "metadata": {
    "collapsed": true
   },
   "outputs": [],
   "source": [
    "segundo.to_excel(writter, 'Resumen GOs', startrow=11)"
   ]
  },
  {
   "cell_type": "code",
   "execution_count": 397,
   "metadata": {
    "collapsed": false,
    "scrolled": false
   },
   "outputs": [],
   "source": [
    "no_ejecutado_region = data.groupby(['Región', 'Categoría','Respuesta Opc.Multiple/Texto Abierto_respuestas'],\n",
    "                     as_index=False).count()"
   ]
  },
  {
   "cell_type": "code",
   "execution_count": 398,
   "metadata": {
    "collapsed": true
   },
   "outputs": [],
   "source": [
    "no_ejecutado_region = no_ejecutado_region[no_ejecutado_region['Respuesta Opc.Multiple/Texto Abierto_respuestas'] == \n",
    "                                          'No he ejecutado']"
   ]
  },
  {
   "cell_type": "code",
   "execution_count": 399,
   "metadata": {
    "collapsed": true
   },
   "outputs": [],
   "source": [
    "no_ejecutado_region = no_ejecutado_region.pivot_table(index='Región', columns='Categoría', values='Canal', fill_value=0)"
   ]
  },
  {
   "cell_type": "code",
   "execution_count": 400,
   "metadata": {
    "collapsed": true
   },
   "outputs": [],
   "source": [
    "no_ejecutado_region.to_excel(writter, 'Resumen GOs', startrow=22)"
   ]
  },
  {
   "cell_type": "code",
   "execution_count": 401,
   "metadata": {
    "collapsed": false
   },
   "outputs": [],
   "source": [
    "reporte_mot = data.groupby(['Categoría', 'Cadena', 'Respuesta Opc.Multiple/Texto Abierto_respuestas'], as_index=False).count()"
   ]
  },
  {
   "cell_type": "code",
   "execution_count": 402,
   "metadata": {
    "collapsed": true
   },
   "outputs": [],
   "source": [
    "reporte_mot = reporte_mot.pivot_table(index=['Categoría', 'Cadena'], columns='Respuesta Opc.Multiple/Texto Abierto_respuestas',\n",
    "                                      values='Zona', fill_value=0)"
   ]
  },
  {
   "cell_type": "code",
   "execution_count": 403,
   "metadata": {
    "collapsed": false
   },
   "outputs": [],
   "source": [
    "reporte_mot = reporte_mot.reset_index()"
   ]
  },
  {
   "cell_type": "code",
   "execution_count": 404,
   "metadata": {
    "collapsed": false
   },
   "outputs": [],
   "source": [
    "reporte_mot = reporte_mot[\n",
    "    ['Categoría', 'Cadena', 'Si', 'Si pero el precio no corresponde', 'No ha caido la promoción', 'No puedo señalizar',\n",
    "     'No tengo suficiente producto', 'No El gerente no me permite ejecutar', 'No he ejecutado']]"
   ]
  },
  {
   "cell_type": "code",
   "execution_count": 405,
   "metadata": {
    "collapsed": false
   },
   "outputs": [],
   "source": [
    "reporte_mot['Ejecutado'] = (reporte_mot['Si'] + reporte_mot['Si pero el precio no corresponde'])"
   ]
  },
  {
   "cell_type": "code",
   "execution_count": 406,
   "metadata": {
    "collapsed": true
   },
   "outputs": [],
   "source": [
    "reporte_mot['No Ejecutado'] = (reporte_mot['No ha caido la promoción'] + reporte_mot['No he ejecutado'] + \n",
    "                               reporte_mot['No puedo señalizar'] + reporte_mot['No tengo suficiente producto'] + \n",
    "                               reporte_mot['No El gerente no me permite ejecutar'])"
   ]
  },
  {
   "cell_type": "code",
   "execution_count": 407,
   "metadata": {
    "collapsed": true
   },
   "outputs": [],
   "source": [
    "reporte_mot['% Ejecución'] = (reporte_mot['Ejecutado'] / (reporte_mot['Ejecutado'] + reporte_mot['No Ejecutado']))"
   ]
  },
  {
   "cell_type": "code",
   "execution_count": 408,
   "metadata": {
    "collapsed": true
   },
   "outputs": [],
   "source": [
    "reporte_mot['% No ha caido la promoción'] = (reporte_mot['No ha caido la promoción'] / reporte_mot['No Ejecutado'])"
   ]
  },
  {
   "cell_type": "code",
   "execution_count": 409,
   "metadata": {
    "collapsed": true
   },
   "outputs": [],
   "source": [
    "reporte_mot['% No puedo señalizar'] = (reporte_mot['No puedo señalizar'] / reporte_mot['No Ejecutado'])"
   ]
  },
  {
   "cell_type": "code",
   "execution_count": 410,
   "metadata": {
    "collapsed": true
   },
   "outputs": [],
   "source": [
    "reporte_mot['% No tengo suficiente producto'] = (reporte_mot['No tengo suficiente producto'] / reporte_mot['No Ejecutado'])"
   ]
  },
  {
   "cell_type": "code",
   "execution_count": 411,
   "metadata": {
    "collapsed": true
   },
   "outputs": [],
   "source": [
    "reporte_mot['% No El gerente no me permite ejecutar'] = (reporte_mot['No El gerente no me permite ejecutar'] / \n",
    "                                                      reporte_mot['No Ejecutado'])"
   ]
  },
  {
   "cell_type": "code",
   "execution_count": 412,
   "metadata": {
    "collapsed": false
   },
   "outputs": [],
   "source": [
    "reporte_mot['% No he ejecutado'] = (reporte_mot['No he ejecutado'] / reporte_mot['No Ejecutado'])\n",
    "reporte_mot = reporte_mot.fillna(0)"
   ]
  },
  {
   "cell_type": "code",
   "execution_count": 413,
   "metadata": {
    "collapsed": false
   },
   "outputs": [],
   "source": [
    "workbook = writter.book"
   ]
  },
  {
   "cell_type": "code",
   "execution_count": 414,
   "metadata": {
    "collapsed": true
   },
   "outputs": [],
   "source": [
    "categorias_values = categorias.Categoría.unique()"
   ]
  },
  {
   "cell_type": "code",
   "execution_count": 415,
   "metadata": {
    "collapsed": false
   },
   "outputs": [],
   "source": [
    "formato_cabecera = workbook.add_format()\n",
    "formato_cabecera.set_font_color('white')\n",
    "formato_cabecera.set_align('center')\n",
    "formato_cabecera.set_bg_color('#222B35')\n",
    "formato_cabecera.set_bold()\n",
    "formato_cabecera.set_text_wrap()\n",
    "formato_cabecera.set_border()"
   ]
  },
  {
   "cell_type": "code",
   "execution_count": 416,
   "metadata": {
    "collapsed": true
   },
   "outputs": [],
   "source": [
    "formato_titulos = formato_cabecera"
   ]
  },
  {
   "cell_type": "code",
   "execution_count": 417,
   "metadata": {
    "collapsed": false
   },
   "outputs": [],
   "source": [
    "row = 2\n",
    "for cat in categorias_values:\n",
    "    reporte_mot[reporte_mot['Categoría'] == cat].to_excel(writter, 'Resumen MOT', startrow=row + 1, index=False, header=False)\n",
    "    worksheet = writter.sheets['Resumen MOT']\n",
    "    valores = reporte_mot.Cadena[reporte_mot['Categoría'] == cat].count()\n",
    "    worksheet.merge_range('M' + str(row - 1) + ':Q' + str(row - 1), 'Razones para no ejecutar', formato_cabecera)\n",
    "    worksheet.merge_range('M' + str(row) + ':O' + str(row), 'Causal CT', formato_cabecera)\n",
    "    worksheet.merge_range('P' + str(row) + ':Q' + str(row), 'Causal SDO', formato_cabecera)\n",
    "    cabecera_resumen_mot(row + 1, formato_cabecera)\n",
    "    worksheet.set_row(row, 33.75)\n",
    "    worksheet.conditional_format('L' + str(row + 1) + ':L' + str(row + valores + 1), {'type': '3_color_scale'})\n",
    "    row += (valores + 4)"
   ]
  },
  {
   "cell_type": "code",
   "execution_count": 418,
   "metadata": {
    "collapsed": false
   },
   "outputs": [],
   "source": [
    "for cat in categorias_values:\n",
    "    categorias[categorias['Categoría'] == cat].to_excel(writter, cat, index=False)"
   ]
  },
  {
   "cell_type": "code",
   "execution_count": 419,
   "metadata": {
    "collapsed": true
   },
   "outputs": [],
   "source": [
    "worksheet = writter.sheets['Resumen MOT']"
   ]
  },
  {
   "cell_type": "code",
   "execution_count": 420,
   "metadata": {
    "collapsed": true
   },
   "outputs": [],
   "source": [
    "porcentaje = workbook.add_format({'num_format': '0%'})"
   ]
  },
  {
   "cell_type": "code",
   "execution_count": 421,
   "metadata": {
    "collapsed": false
   },
   "outputs": [
    {
     "data": {
      "text/plain": [
       "0"
      ]
     },
     "execution_count": 421,
     "metadata": {},
     "output_type": "execute_result"
    }
   ],
   "source": [
    "worksheet.set_column(0, 0, 18.29)\n",
    "worksheet.set_column(1, 1, 21.29)\n",
    "worksheet.set_column('C:K', None, None, {'hidden': True})\n",
    "worksheet.set_column('L:Q', 21, porcentaje)"
   ]
  },
  {
   "cell_type": "code",
   "execution_count": 422,
   "metadata": {
    "collapsed": true
   },
   "outputs": [],
   "source": [
    "order[order['Cadena'] == 'AC Soriana'].pivot_table(index=['Canal', 'Categoría', 'Cadena', 'Pregunta'],\n",
    "                                                   columns='Respuesta Opc.Multiple/Texto Abierto_respuestas', values='Zona',\n",
    "                                                   fill_value=0).reset_index().to_excel(writter, 'AC Soriana',\n",
    "                                                                                        index=False)"
   ]
  },
  {
   "cell_type": "code",
   "execution_count": 423,
   "metadata": {
    "collapsed": true
   },
   "outputs": [],
   "source": [
    "order[order['Cadena'] == 'AD Chedraui'].pivot_table(index=['Canal', 'Categoría', 'Cadena', 'Pregunta'],\n",
    "                                                    columns='Respuesta Opc.Multiple/Texto Abierto_respuestas', values='Zona',\n",
    "                                                    fill_value=0).reset_index().to_excel(writter, 'AD Chedraui',\n",
    "                                                                                         index=False)"
   ]
  },
  {
   "cell_type": "code",
   "execution_count": 424,
   "metadata": {
    "collapsed": true
   },
   "outputs": [],
   "source": [
    "order[order['Cadena'] == 'AE Comercial Mexicana'].pivot_table(index=['Canal', 'Categoría', 'Cadena', 'Pregunta'],\n",
    "                                                              columns='Respuesta Opc.Multiple/Texto Abierto_respuestas',\n",
    "                                                              values='Zona',\n",
    "                                                              fill_value=0).reset_index().to_excel(writter,\n",
    "                                                                                                   'AE Comercial Mexicana',\n",
    "                                                                                                   index=False)"
   ]
  },
  {
   "cell_type": "code",
   "execution_count": 425,
   "metadata": {
    "collapsed": true
   },
   "outputs": [],
   "source": [
    "order[(order['Cadena'] == 'AB Bodega Aurrera') | (order['Cadena'] == 'AA Supercenter') | (order[\n",
    "                                                                                              'Cadena'] == 'Superama')].pivot_table(\n",
    "    index=['Canal', 'Categoría', 'Cadena', 'Pregunta'],\n",
    "    columns='Respuesta Opc.Multiple/Texto Abierto_respuestas', values='Zona',\n",
    "    fill_value=0).reset_index().to_excel(writter, 'WM',\n",
    "                                         index=False)"
   ]
  },
  {
   "cell_type": "code",
   "execution_count": 426,
   "metadata": {
    "collapsed": false
   },
   "outputs": [],
   "source": [
    "workbook.close()\n",
    "writter.save()"
   ]
  },
  {
   "cell_type": "code",
   "execution_count": 427,
   "metadata": {
    "collapsed": false
   },
   "outputs": [
    {
     "name": "stdout",
     "output_type": "stream",
     "text": [
      "Ejecutado en: 3.865036725997925 segundos\n"
     ]
    }
   ],
   "source": [
    "print('Ejecutado en: ' + str(time.time() - start_time) + ' segundos')"
   ]
  }
 ],
 "metadata": {
  "kernelspec": {
   "display_name": "Python 3",
   "language": "python",
   "name": "python3"
  },
  "language_info": {
   "codemirror_mode": {
    "name": "ipython",
    "version": 3
   },
   "file_extension": ".py",
   "mimetype": "text/x-python",
   "name": "python",
   "nbconvert_exporter": "python",
   "pygments_lexer": "ipython3",
   "version": "3.6.0"
  }
 },
 "nbformat": 4,
 "nbformat_minor": 2
}

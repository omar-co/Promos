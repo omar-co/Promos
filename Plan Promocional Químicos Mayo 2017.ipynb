{
 "cells": [
  {
   "cell_type": "code",
   "execution_count": 251,
   "metadata": {
    "collapsed": true
   },
   "outputs": [],
   "source": [
    "import pandas as pd"
   ]
  },
  {
   "cell_type": "code",
   "execution_count": 252,
   "metadata": {
    "collapsed": true
   },
   "outputs": [],
   "source": [
    "import time\n",
    "\n",
    "start_time = time.time()"
   ]
  },
  {
   "cell_type": "code",
   "execution_count": 253,
   "metadata": {
    "collapsed": true
   },
   "outputs": [],
   "source": [
    "def cabecera_resumen_mot(row, format):\n",
    "    worksheet.write('A' + str(row), 'Categoría', format)\n",
    "    worksheet.write('B' + str(row), 'Cadena', format)\n",
    "    worksheet.write('C' + str(row), 'Si', format)\n",
    "    worksheet.write('D' + str(row), 'Si pero el precio no corresponde', format)\n",
    "    worksheet.write('E' + str(row), 'No ha caido la promoción', format)\n",
    "    worksheet.write('F' + str(row), 'No puedo señalizar', format)\n",
    "    worksheet.write('G' + str(row), 'No tengo suficiente producto', format)\n",
    "    worksheet.write('H' + str(row), 'No he ejecutado', format)\n",
    "    worksheet.write('I' + str(row), 'Ejecutado', format)\n",
    "    worksheet.write('J' + str(row), 'NO Ejecutado', format)\n",
    "    worksheet.write('K' + str(row), '% Ejecución', format)\n",
    "    worksheet.write('L' + str(row), '% No ha caido la promoción', format)\n",
    "    worksheet.write('M' + str(row), '% No puedo señalizar', format)\n",
    "    worksheet.write('N' + str(row), '% No tengo suficiente producto', format)\n",
    "    worksheet.write('O' + str(row), '% No he ejecutado', format)"
   ]
  },
  {
   "cell_type": "code",
   "execution_count": 254,
   "metadata": {
    "collapsed": true
   },
   "outputs": [],
   "source": [
    "def cabecera_resumen_gos(row, format):\n",
    "    worksheet.write('B' + str(row), 'Detergentes', format)\n",
    "    worksheet.write('C' + str(row), 'Suavizantes', format)\n",
    "    worksheet.write('D' + str(row), 'Lavatrastes', format)\n",
    "    worksheet.write('E' + str(row), 'Detergentes', format)\n",
    "    worksheet.write('F' + str(row), 'Suavizantes', format)\n",
    "    worksheet.write('G' + str(row), 'Lavatrastes', format)"
   ]
  },
  {
   "cell_type": "code",
   "execution_count": 255,
   "metadata": {
    "collapsed": false
   },
   "outputs": [],
   "source": [
    "stores_file = 'stores_clean.xlsx'"
   ]
  },
  {
   "cell_type": "code",
   "execution_count": 256,
   "metadata": {
    "collapsed": false
   },
   "outputs": [],
   "source": [
    "stores = pd.read_excel(stores_file, 0)"
   ]
  },
  {
   "cell_type": "code",
   "execution_count": 257,
   "metadata": {
    "collapsed": false
   },
   "outputs": [],
   "source": [
    "belleza = pd.read_excel('Plan Promocional Quimicos Mayo 2017.xlsx', 4, 2)"
   ]
  },
  {
   "cell_type": "code",
   "execution_count": 258,
   "metadata": {
    "collapsed": false
   },
   "outputs": [],
   "source": [
    "preguntas = belleza[['Categoría', 'NOMBRE DE LA INICIATIVA']]"
   ]
  },
  {
   "cell_type": "code",
   "execution_count": 259,
   "metadata": {
    "collapsed": false
   },
   "outputs": [],
   "source": [
    "iniciativa_belleza = pd.read_csv('lecturas_quimicos_17.csv', encoding='mbcs')"
   ]
  },
  {
   "cell_type": "code",
   "execution_count": 260,
   "metadata": {
    "collapsed": false
   },
   "outputs": [],
   "source": [
    "writter = pd.ExcelWriter('RepPromoQuimicos.xlsx')"
   ]
  },
  {
   "cell_type": "code",
   "execution_count": 261,
   "metadata": {
    "collapsed": false
   },
   "outputs": [],
   "source": [
    "workbook = writter.book"
   ]
  },
  {
   "cell_type": "code",
   "execution_count": 262,
   "metadata": {
    "collapsed": true
   },
   "outputs": [],
   "source": [
    "porcentaje = workbook.add_format({'num_format': '0%'})"
   ]
  },
  {
   "cell_type": "code",
   "execution_count": 263,
   "metadata": {
    "collapsed": false
   },
   "outputs": [],
   "source": [
    "iniciativas = iniciativa_belleza[\n",
    "    ['Cadena', 'Región', 'Zona', 'Tienda ID', 'Nombre Tienda', 'Fecha Captura', 'Grupo Categorias',\n",
    "     'Iniciativa', 'Apoyo', 'Respuesta Opc.Multiple/Texto Abierto']]"
   ]
  },
  {
   "cell_type": "code",
   "execution_count": 264,
   "metadata": {
    "collapsed": true
   },
   "outputs": [],
   "source": [
    "respuestas = iniciativas['Respuesta Opc.Multiple/Texto Abierto'].replace('1.Si\\r\\n2.No', 'Si')\n",
    "respuestas = respuestas.replace('he ejecutado\\r\\n6.No', 'No he ejecutado')\n",
    "respuestas = respuestas.replace('he ejecutado\\n6.No', 'No he ejecutado')\n",
    "respuestas = respuestas.replace('he ejecutado', 'No he ejecutado')\n",
    "respuestas = respuestas.replace('no tengo suficiente producto\\r\\n3.No', 'No tengo suficiente producto')\n",
    "respuestas = respuestas.replace('no tengo suficiente producto\\n3.No', 'No tengo suficiente producto')\n",
    "respuestas = respuestas.replace('no ha caido la promoción\\r\\n4.No', 'No ha caido la promoción')\n",
    "respuestas = respuestas.replace('no ha caido la promoción\\n4.No', 'No ha caido la promoción')\n",
    "respuestas = respuestas.replace('1.Si\\r\\n2.Si', 'Si')\n",
    "respuestas = respuestas.replace('1.Si\\n2.Si', 'Si')\n",
    "respuestas = respuestas.replace('1.Si\\n2.No', 'Si')\n",
    "respuestas = respuestas.replace('pero el precio no corresponde.  \\r\\n3.No', 'Si pero el precio no corresponde')\n",
    "respuestas = respuestas.replace('pero el precio no corresponde.  \\n3.No', 'Si pero el precio no corresponde')\n",
    "respuestas = respuestas.replace('no ha caido la promoción\\r\\n5.No', 'No ha caido la promoción')\n",
    "respuestas = respuestas.replace('no ha caido la promoción\\n5.No', 'No ha caido la promoción')\n",
    "respuestas = respuestas.replace('no tengo suficiente producto\\r\\n4.No', 'No tengo suficiente producto')\n",
    "respuestas = respuestas.replace('no tengo suficiente producto\\n4.No', 'No tengo suficiente producto')\n",
    "respuestas = respuestas.replace('no puedo señalizar\\r\\n5.No', 'No puedo señalizar')\n",
    "respuestas = respuestas.replace('no puedo señalizar\\r\\n6.No', 'No puedo señalizar')\n",
    "respuestas = respuestas.replace('no puedo señalizar\\n6.No', 'No puedo señalizar')"
   ]
  },
  {
   "cell_type": "code",
   "execution_count": 265,
   "metadata": {
    "collapsed": false
   },
   "outputs": [],
   "source": [
    "iniciativas = iniciativas.join(respuestas, rsuffix='_respuestas')"
   ]
  },
  {
   "cell_type": "code",
   "execution_count": 266,
   "metadata": {
    "collapsed": true
   },
   "outputs": [],
   "source": [
    "preguntas_id = iniciativas['Apoyo'].str.extract(\"(?P<PreguntaID>\\w{5}\\d{1,3})(?P<Pregunta>¿.+)\", expand=False)"
   ]
  },
  {
   "cell_type": "code",
   "execution_count": 267,
   "metadata": {
    "collapsed": true
   },
   "outputs": [],
   "source": [
    "iniciativas = iniciativas.join(preguntas_id)"
   ]
  },
  {
   "cell_type": "code",
   "execution_count": 268,
   "metadata": {
    "collapsed": true
   },
   "outputs": [],
   "source": [
    "preguntas = preguntas.set_index('NOMBRE DE LA INICIATIVA')"
   ]
  },
  {
   "cell_type": "code",
   "execution_count": 269,
   "metadata": {
    "collapsed": true
   },
   "outputs": [],
   "source": [
    "iniciativas = iniciativas.join(preguntas, on='Pregunta')"
   ]
  },
  {
   "cell_type": "code",
   "execution_count": 270,
   "metadata": {
    "collapsed": true
   },
   "outputs": [],
   "source": [
    "stores = stores[['Stores ID', '# Sucursal Cliente', 'Cadena', 'Formato', 'Nombre Tienda', 'Estatus de Tienda', 'Canal']]"
   ]
  },
  {
   "cell_type": "code",
   "execution_count": 271,
   "metadata": {
    "collapsed": true
   },
   "outputs": [],
   "source": [
    "stores = stores.drop_duplicates()"
   ]
  },
  {
   "cell_type": "code",
   "execution_count": 272,
   "metadata": {
    "collapsed": true
   },
   "outputs": [],
   "source": [
    "iniciativas = iniciativas.join(stores.set_index('Stores ID'), on='Tienda ID', rsuffix='_stores')"
   ]
  },
  {
   "cell_type": "code",
   "execution_count": 273,
   "metadata": {
    "collapsed": true
   },
   "outputs": [],
   "source": [
    "columnas_iniciativas = iniciativas.columns"
   ]
  },
  {
   "cell_type": "code",
   "execution_count": 274,
   "metadata": {
    "collapsed": true
   },
   "outputs": [],
   "source": [
    "iniciativas = iniciativas.sort_values(by='Fecha Captura')"
   ]
  },
  {
   "cell_type": "code",
   "execution_count": 275,
   "metadata": {
    "collapsed": true
   },
   "outputs": [],
   "source": [
    "iniciativas = iniciativas.drop_duplicates(['Nombre Tienda', 'Pregunta'], keep='last').values"
   ]
  },
  {
   "cell_type": "code",
   "execution_count": 276,
   "metadata": {
    "collapsed": true
   },
   "outputs": [],
   "source": [
    "iniciativas = pd.DataFrame(iniciativas, columns=columnas_iniciativas)"
   ]
  },
  {
   "cell_type": "code",
   "execution_count": 277,
   "metadata": {
    "collapsed": false
   },
   "outputs": [],
   "source": [
    "data = iniciativas[['Canal', 'Categoría', 'Cadena', 'Región', 'Zona', 'Tienda ID', 'Nombre Tienda', 'Fecha Captura',\n",
    "                    'Iniciativa', 'Pregunta', 'Respuesta Opc.Multiple/Texto Abierto_respuestas']]"
   ]
  },
  {
   "cell_type": "code",
   "execution_count": 278,
   "metadata": {
    "collapsed": true
   },
   "outputs": [],
   "source": [
    "order = data.groupby(['Canal', 'Categoría', 'Cadena', 'Pregunta', 'Respuesta Opc.Multiple/Texto Abierto_respuestas'],\n",
    "                     as_index=False).count()"
   ]
  },
  {
   "cell_type": "code",
   "execution_count": 279,
   "metadata": {
    "collapsed": true
   },
   "outputs": [],
   "source": [
    "order = order[['Canal', 'Categoría', 'Cadena', 'Pregunta', 'Respuesta Opc.Multiple/Texto Abierto_respuestas', 'Zona']]"
   ]
  },
  {
   "cell_type": "code",
   "execution_count": 280,
   "metadata": {
    "collapsed": false
   },
   "outputs": [],
   "source": [
    "categorias = order.pivot_table(index=['Canal', 'Categoría', 'Cadena', 'Pregunta'],\n",
    "                               columns='Respuesta Opc.Multiple/Texto Abierto_respuestas', values='Zona', fill_value=0).reset_index(\n",
    "    ['Canal', 'Categoría', 'Cadena', 'Pregunta'])"
   ]
  },
  {
   "cell_type": "code",
   "execution_count": 281,
   "metadata": {
    "collapsed": false
   },
   "outputs": [],
   "source": [
    "categorias = categorias.assign(Ejecutado=(categorias['Si'] + categorias['Si pero el precio no corresponde']))"
   ]
  },
  {
   "cell_type": "code",
   "execution_count": 282,
   "metadata": {
    "collapsed": false
   },
   "outputs": [],
   "source": [
    "categorias = categorias.assign(No_Ejecutado=(\n",
    "    categorias['No ha caido la promoción'] + categorias['No he ejecutado'] + categorias['No puedo señalizar'] +\n",
    "    categorias['No tengo suficiente producto']))"
   ]
  },
  {
   "cell_type": "code",
   "execution_count": 283,
   "metadata": {
    "collapsed": true
   },
   "outputs": [],
   "source": [
    "categorias = categorias.assign(\n",
    "    Porcentaje_Ejecución=(categorias['Ejecutado'] / (categorias['Ejecutado'] + categorias['No_Ejecutado'])))"
   ]
  },
  {
   "cell_type": "code",
   "execution_count": 284,
   "metadata": {
    "collapsed": true
   },
   "outputs": [],
   "source": [
    "categorias = categorias.rename(columns={'No_Ejecutado': 'No Ejecutado', 'Porcentaje_Ejecución': '% Ejecución'})"
   ]
  },
  {
   "cell_type": "code",
   "execution_count": 285,
   "metadata": {
    "collapsed": false
   },
   "outputs": [],
   "source": [
    "categorias = categorias[['Canal', 'Categoría', 'Cadena', 'Pregunta', 'No ha caido la promoción', 'No he ejecutado',\n",
    "                         'No puedo señalizar', 'No tengo suficiente producto','Si', 'Si pero el precio no corresponde',\n",
    "                         'Ejecutado', 'No Ejecutado', '% Ejecución']]"
   ]
  },
  {
   "cell_type": "code",
   "execution_count": 286,
   "metadata": {
    "collapsed": false,
    "scrolled": true
   },
   "outputs": [],
   "source": [
    "resumen_gos = data.groupby(['Respuesta Opc.Multiple/Texto Abierto_respuestas', 'Categoría'], as_index=False).count()\n",
    "resumen_gos = resumen_gos.pivot_table(index=['Respuesta Opc.Multiple/Texto Abierto_respuestas'], columns='Categoría',\n",
    "                                      values='Zona', fill_value=0)"
   ]
  },
  {
   "cell_type": "code",
   "execution_count": 287,
   "metadata": {
    "collapsed": false
   },
   "outputs": [],
   "source": [
    "sum_row = resumen_gos.sum()\n",
    "sum_row = pd.DataFrame(sum_row).T"
   ]
  },
  {
   "cell_type": "code",
   "execution_count": 288,
   "metadata": {
    "collapsed": false
   },
   "outputs": [],
   "source": [
    "resumen_gos = resumen_gos.append(sum_row)"
   ]
  },
  {
   "cell_type": "code",
   "execution_count": 289,
   "metadata": {
    "collapsed": false
   },
   "outputs": [],
   "source": [
    "resumen_gos['% Detergentes'] = (resumen_gos['Detergentes'] / resumen_gos.iloc[6,0])\n",
    "resumen_gos['% Suavizantes'] = (resumen_gos['Suavizantes'] / resumen_gos.iloc[6,1])\n",
    "resumen_gos['% Lavatrastes'] = (resumen_gos['Lavatrastes'] / resumen_gos.iloc[6,2])\n",
    "resumen_gos = resumen_gos.iloc[0:6,0:10]\n",
    "resumen_gos.to_excel(writter, 'Resumen GOs')"
   ]
  },
  {
   "cell_type": "code",
   "execution_count": 290,
   "metadata": {
    "collapsed": false
   },
   "outputs": [],
   "source": [
    "active_row_names = ['No ha caido la promoción', 'No tengo suficiente producto', \n",
    "                    'No puedo señalizar']\n",
    "active_filter = [row in active_row_names for row in resumen_gos.index]\n",
    "inactive_filter = [not row for row in active_filter]\n",
    "active = resumen_gos.loc[active_filter].sum()\n",
    "active  = pd.DataFrame(active).transpose()\n",
    "active.index=[\"NO, causal CT\"] \n",
    "segundo = resumen_gos.append(active, ignore_index=False)"
   ]
  },
  {
   "cell_type": "code",
   "execution_count": 291,
   "metadata": {
    "collapsed": true
   },
   "outputs": [],
   "source": [
    "active_row_names = ['Si', 'Si pero el precio no corresponde']\n",
    "active_filter = [row in active_row_names for row in segundo.index]\n",
    "inactive_filter = [not row for row in active_filter]\n",
    "active = resumen_gos.loc[active_filter].sum()\n",
    "active  = pd.DataFrame(active).transpose()\n",
    "active.index=[\"SI\"] \n",
    "segundo = segundo.loc[inactive_filter].append(active, ignore_index=False)"
   ]
  },
  {
   "cell_type": "code",
   "execution_count": 292,
   "metadata": {
    "collapsed": false
   },
   "outputs": [],
   "source": [
    "segundo = segundo.sort_index(1)"
   ]
  },
  {
   "cell_type": "code",
   "execution_count": 293,
   "metadata": {
    "collapsed": false
   },
   "outputs": [],
   "source": [
    "segundo = segundo[['Detergentes', 'Suavizantes', 'Lavatrastes',  \n",
    "                   '% Detergentes', '% Suavizantes', '% Lavatrastes']]"
   ]
  },
  {
   "cell_type": "code",
   "execution_count": 294,
   "metadata": {
    "collapsed": true
   },
   "outputs": [],
   "source": [
    "segundo.to_excel(writter, 'Resumen GOs', startrow=11)"
   ]
  },
  {
   "cell_type": "code",
   "execution_count": 295,
   "metadata": {
    "collapsed": false,
    "scrolled": false
   },
   "outputs": [],
   "source": [
    "no_ejecutado_region = data.groupby(['Región', 'Categoría','Respuesta Opc.Multiple/Texto Abierto_respuestas'],\n",
    "                     as_index=False).count()"
   ]
  },
  {
   "cell_type": "code",
   "execution_count": 296,
   "metadata": {
    "collapsed": true
   },
   "outputs": [],
   "source": [
    "no_ejecutado_region = no_ejecutado_region[no_ejecutado_region['Respuesta Opc.Multiple/Texto Abierto_respuestas'] == \n",
    "                                          'No he ejecutado']"
   ]
  },
  {
   "cell_type": "code",
   "execution_count": 297,
   "metadata": {
    "collapsed": false
   },
   "outputs": [],
   "source": [
    "no_ejecutado_region = no_ejecutado_region.pivot_table(index='Región', columns='Categoría', values='Canal', fill_value=0)"
   ]
  },
  {
   "cell_type": "code",
   "execution_count": 298,
   "metadata": {
    "collapsed": false
   },
   "outputs": [],
   "source": [
    "no_ejecutado_region = no_ejecutado_region.join(no_ejecutado_region, lsuffix='_base')"
   ]
  },
  {
   "cell_type": "code",
   "execution_count": 299,
   "metadata": {
    "collapsed": true
   },
   "outputs": [],
   "source": [
    "no_ejecutado_region.to_excel(writter, 'Resumen GOs', startrow=22)"
   ]
  },
  {
   "cell_type": "code",
   "execution_count": 300,
   "metadata": {
    "collapsed": false
   },
   "outputs": [],
   "source": [
    "final = no_ejecutado_region.Detergentes[no_ejecutado_region['Detergentes']].count() + 23\n",
    "worksheet = writter.sheets['Resumen GOs']\n",
    "formato_gos_general = workbook.add_format()\n",
    "formato_gos_general.set_font_color('white')\n",
    "formato_gos_general.set_align('center')\n",
    "formato_gos_general.set_bg_color('#222B35')\n",
    "formato_gos_general.set_bold()\n",
    "formato_gos_general.set_border()\n",
    "worksheet.write('A1', 'Ejecución', formato_gos_general)\n",
    "worksheet.write('A12', 'Ejecutando', formato_gos_general)\n",
    "cabecera_resumen_gos(1, formato_gos_general)\n",
    "cabecera_resumen_gos(12, formato_gos_general)\n",
    "cabecera_resumen_gos(23, formato_gos_general)\n",
    "worksheet.set_column('B:D', 21, None, {'hidden': True})\n",
    "worksheet.set_column('E:G', 21, porcentaje)\n",
    "worksheet.set_column('A:A', 34.5)\n",
    "red_format = workbook.add_format({'bg_color':   '#FFC7CE',\n",
    "                               'font_color': '#9C0006'})\n",
    "green_format = workbook.add_format({'bg_color':   '#C6EFCE',\n",
    "                               'font_color': '#006100'})\n",
    "#worksheet.conditional_format('G24:K' + str(final), {'type':     'cell',\n",
    "#                                    'criteria': 'greater than',\n",
    "#                                    'value':    0,\n",
    "#                                    'format':   red_format})\n",
    "#worksheet.conditional_format('G24:K' + str(final), {'type':     'cell',\n",
    "#                                    'criteria': 'less than',\n",
    "#                                    'value':    1,\n",
    "#                                    'format':   green_format})"
   ]
  },
  {
   "cell_type": "code",
   "execution_count": 301,
   "metadata": {
    "collapsed": false
   },
   "outputs": [],
   "source": [
    "reporte_mot = data.groupby(['Categoría', 'Cadena', 'Respuesta Opc.Multiple/Texto Abierto_respuestas'], as_index=False).count()"
   ]
  },
  {
   "cell_type": "code",
   "execution_count": 302,
   "metadata": {
    "collapsed": true
   },
   "outputs": [],
   "source": [
    "reporte_mot = reporte_mot.pivot_table(index=['Categoría', 'Cadena'], columns='Respuesta Opc.Multiple/Texto Abierto_respuestas',\n",
    "                                      values='Zona', fill_value=0)"
   ]
  },
  {
   "cell_type": "code",
   "execution_count": 303,
   "metadata": {
    "collapsed": false
   },
   "outputs": [],
   "source": [
    "reporte_mot = reporte_mot.reset_index()"
   ]
  },
  {
   "cell_type": "code",
   "execution_count": 304,
   "metadata": {
    "collapsed": false
   },
   "outputs": [],
   "source": [
    "reporte_mot = reporte_mot[\n",
    "    ['Categoría', 'Cadena', 'Si', 'Si pero el precio no corresponde', 'No ha caido la promoción', 'No puedo señalizar',\n",
    "     'No tengo suficiente producto', 'No he ejecutado']]"
   ]
  },
  {
   "cell_type": "code",
   "execution_count": 305,
   "metadata": {
    "collapsed": false
   },
   "outputs": [],
   "source": [
    "reporte_mot['Ejecutado'] = (reporte_mot['Si'] + reporte_mot['Si pero el precio no corresponde'])"
   ]
  },
  {
   "cell_type": "code",
   "execution_count": 306,
   "metadata": {
    "collapsed": true
   },
   "outputs": [],
   "source": [
    "reporte_mot['No Ejecutado'] = (reporte_mot['No ha caido la promoción'] + reporte_mot['No he ejecutado'] + \n",
    "                               reporte_mot['No puedo señalizar'] + reporte_mot['No tengo suficiente producto'])"
   ]
  },
  {
   "cell_type": "code",
   "execution_count": 307,
   "metadata": {
    "collapsed": true
   },
   "outputs": [],
   "source": [
    "reporte_mot['% Ejecución'] = (reporte_mot['Ejecutado'] / (reporte_mot['Ejecutado'] + reporte_mot['No Ejecutado']))"
   ]
  },
  {
   "cell_type": "code",
   "execution_count": 308,
   "metadata": {
    "collapsed": true
   },
   "outputs": [],
   "source": [
    "reporte_mot['% No ha caido la promoción'] = (reporte_mot['No ha caido la promoción'] / reporte_mot['No Ejecutado'])"
   ]
  },
  {
   "cell_type": "code",
   "execution_count": 309,
   "metadata": {
    "collapsed": true
   },
   "outputs": [],
   "source": [
    "reporte_mot['% No puedo señalizar'] = (reporte_mot['No puedo señalizar'] / reporte_mot['No Ejecutado'])"
   ]
  },
  {
   "cell_type": "code",
   "execution_count": 310,
   "metadata": {
    "collapsed": true
   },
   "outputs": [],
   "source": [
    "reporte_mot['% No tengo suficiente producto'] = (reporte_mot['No tengo suficiente producto'] / reporte_mot['No Ejecutado'])"
   ]
  },
  {
   "cell_type": "code",
   "execution_count": 311,
   "metadata": {
    "collapsed": false
   },
   "outputs": [],
   "source": [
    "reporte_mot['% No he ejecutado'] = (reporte_mot['No he ejecutado'] / reporte_mot['No Ejecutado'])\n",
    "reporte_mot = reporte_mot.fillna(0)"
   ]
  },
  {
   "cell_type": "code",
   "execution_count": 312,
   "metadata": {
    "collapsed": true
   },
   "outputs": [],
   "source": [
    "categorias_values = categorias.Categoría.unique()"
   ]
  },
  {
   "cell_type": "code",
   "execution_count": 313,
   "metadata": {
    "collapsed": false
   },
   "outputs": [],
   "source": [
    "formato_cabecera = workbook.add_format()\n",
    "formato_cabecera.set_font_color('white')\n",
    "formato_cabecera.set_align('center')\n",
    "formato_cabecera.set_bg_color('#222B35')\n",
    "formato_cabecera.set_bold()\n",
    "formato_cabecera.set_text_wrap()\n",
    "formato_cabecera.set_border()"
   ]
  },
  {
   "cell_type": "code",
   "execution_count": 314,
   "metadata": {
    "collapsed": true
   },
   "outputs": [],
   "source": [
    "formato_titulos = formato_cabecera"
   ]
  },
  {
   "cell_type": "code",
   "execution_count": 315,
   "metadata": {
    "collapsed": false
   },
   "outputs": [],
   "source": [
    "row = 2\n",
    "for cat in categorias_values:\n",
    "    reporte_mot[reporte_mot['Categoría'] == cat].to_excel(writter, 'Resumen MOT', startrow=row + 1, index=False, header=False)\n",
    "    worksheet = writter.sheets['Resumen MOT']\n",
    "    valores = reporte_mot.Cadena[reporte_mot['Categoría'] == cat].count()\n",
    "    worksheet.merge_range('L' + str(row - 1) + ':O' + str(row - 1), 'Razones para no ejecutar', formato_cabecera)\n",
    "    worksheet.merge_range('L' + str(row) + ':N' + str(row), 'Causal CT', formato_cabecera)\n",
    "    worksheet.write('O' + str(row), 'Causal SDO', formato_cabecera)\n",
    "    cabecera_resumen_mot(row + 1, formato_cabecera)\n",
    "    worksheet.set_row(row, 33.75)\n",
    "    worksheet.conditional_format('K' + str(row + 1) + ':K' + str(row + valores + 1), {'type': '3_color_scale'})\n",
    "    row += (valores + 4)"
   ]
  },
  {
   "cell_type": "code",
   "execution_count": 316,
   "metadata": {
    "collapsed": false
   },
   "outputs": [],
   "source": [
    "for cat in categorias_values:\n",
    "    categorias[categorias['Categoría'] == cat].to_excel(writter, cat, index=False)"
   ]
  },
  {
   "cell_type": "code",
   "execution_count": 317,
   "metadata": {
    "collapsed": true
   },
   "outputs": [],
   "source": [
    "worksheet = writter.sheets['Resumen MOT']"
   ]
  },
  {
   "cell_type": "code",
   "execution_count": 318,
   "metadata": {
    "collapsed": false,
    "scrolled": true
   },
   "outputs": [
    {
     "data": {
      "text/plain": [
       "0"
      ]
     },
     "execution_count": 318,
     "metadata": {},
     "output_type": "execute_result"
    }
   ],
   "source": [
    "worksheet.set_column(0, 0, 18.29)\n",
    "worksheet.set_column(1, 1, 21.29)\n",
    "worksheet.set_column('C:J', None, None, {'hidden': True})\n",
    "worksheet.set_column('K:O', 21, porcentaje)"
   ]
  },
  {
   "cell_type": "code",
   "execution_count": 319,
   "metadata": {
    "collapsed": false
   },
   "outputs": [],
   "source": [
    "def columnas_tiendas(tienda):\n",
    "    tienda['Ejecutado'] = (tienda['Si'] + tienda['Si pero el precio no corresponde'])\n",
    "    tienda['No Ejecutado'] = (tienda['No ha caido la promoción'] + tienda['No he ejecutado'] + \n",
    "                               tienda['No puedo señalizar'] + tienda['No tengo suficiente producto'])\n",
    "    tienda['% Ejecución'] = (tienda['Ejecutado'] / (tienda['Ejecutado'] + tienda['No Ejecutado']))\n",
    "    \n",
    "def columnas_tiendas_sin_val(tienda):\n",
    "    tienda['Ejecutado'] = (tienda['Si'] + tienda['Si pero el precio no corresponde'])\n",
    "    tienda['No Ejecutado'] = (tienda['No ha caido la promoción'] + \n",
    "                               tienda['No puedo señalizar'] + tienda['No tengo suficiente producto'])\n",
    "    tienda['% Ejecución'] = (tienda['Ejecutado'] / (tienda['Ejecutado'] + tienda['No Ejecutado']))"
   ]
  },
  {
   "cell_type": "code",
   "execution_count": 320,
   "metadata": {
    "collapsed": true
   },
   "outputs": [],
   "source": [
    "Soriana = order[order['Cadena'] == 'AC Soriana'].pivot_table(index=['Canal', 'Categoría', 'Cadena', 'Pregunta'],\n",
    "                                                   columns='Respuesta Opc.Multiple/Texto Abierto_respuestas', values='Zona',\n",
    "                                                   fill_value=0).reset_index()"
   ]
  },
  {
   "cell_type": "code",
   "execution_count": 321,
   "metadata": {
    "collapsed": true
   },
   "outputs": [],
   "source": [
    "columnas_tiendas(Soriana)\n",
    "Soriana.to_excel(writter, 'AC Soriana',index=False)"
   ]
  },
  {
   "cell_type": "code",
   "execution_count": 322,
   "metadata": {
    "collapsed": true
   },
   "outputs": [],
   "source": [
    "Chedraui = order[order['Cadena'] == 'AD Chedraui'].pivot_table(index=['Canal', 'Categoría', 'Cadena', 'Pregunta'],\n",
    "                                                    columns='Respuesta Opc.Multiple/Texto Abierto_respuestas', values='Zona',\n",
    "                                                    fill_value=0).reset_index()"
   ]
  },
  {
   "cell_type": "code",
   "execution_count": 323,
   "metadata": {
    "collapsed": false
   },
   "outputs": [],
   "source": [
    "columnas_tiendas(Chedraui)\n",
    "Chedraui.to_excel(writter, 'AD Chedraui', index=False)"
   ]
  },
  {
   "cell_type": "code",
   "execution_count": 324,
   "metadata": {
    "collapsed": true
   },
   "outputs": [],
   "source": [
    "Comercial_Mexicana = order[order['Cadena'] == 'AE Comercial Mexicana'].pivot_table(index=['Canal', 'Categoría', 'Cadena', 'Pregunta'],\n",
    "                                                              columns='Respuesta Opc.Multiple/Texto Abierto_respuestas',\n",
    "                                                              values='Zona',\n",
    "                                                              fill_value=0).reset_index()"
   ]
  },
  {
   "cell_type": "code",
   "execution_count": 325,
   "metadata": {
    "collapsed": false
   },
   "outputs": [],
   "source": [
    "columnas_tiendas_sin_val(Comercial_Mexicana)\n",
    "Comercial_Mexicana.to_excel(writter,'AE Comercial Mexicana', index=False)"
   ]
  },
  {
   "cell_type": "code",
   "execution_count": 326,
   "metadata": {
    "collapsed": true
   },
   "outputs": [],
   "source": [
    "WM = order[(order['Cadena'] == 'AB Bodega Aurrera') | (order['Cadena'] == 'AA Supercenter') | (order[\n",
    "                                                                                              'Cadena'] == 'Superama')].pivot_table(\n",
    "    index=['Canal', 'Categoría', 'Cadena', 'Pregunta'],\n",
    "    columns='Respuesta Opc.Multiple/Texto Abierto_respuestas', values='Zona',\n",
    "    fill_value=0).reset_index()"
   ]
  },
  {
   "cell_type": "code",
   "execution_count": 327,
   "metadata": {
    "collapsed": true
   },
   "outputs": [],
   "source": [
    "columnas_tiendas(WM)\n",
    "WM.to_excel(writter, 'WM', index=False)"
   ]
  },
  {
   "cell_type": "code",
   "execution_count": 328,
   "metadata": {
    "collapsed": true
   },
   "outputs": [],
   "source": [
    "por_tienda = data.groupby(['Canal', 'Categoría', 'Cadena', 'Nombre Tienda', 'Pregunta', \n",
    "                           'Respuesta Opc.Multiple/Texto Abierto_respuestas'], as_index=False).count()\n",
    "cadenas = por_tienda.Cadena.unique()\n",
    "\n",
    "for cadena in cadenas:\n",
    "    por_tienda[por_tienda['Cadena'] == cadena][['Canal', 'Categoría', 'Cadena', 'Nombre Tienda', 'Pregunta', \n",
    "                                                'Respuesta Opc.Multiple/Texto Abierto_respuestas']].to_excel(writter, \n",
    "                                                                                                             'Data ' + cadena, \n",
    "                                                                                                             index=False)"
   ]
  },
  {
   "cell_type": "code",
   "execution_count": 329,
   "metadata": {
    "collapsed": false
   },
   "outputs": [],
   "source": [
    "workbook.close()\n",
    "writter.save()"
   ]
  },
  {
   "cell_type": "code",
   "execution_count": 330,
   "metadata": {
    "collapsed": false
   },
   "outputs": [
    {
     "name": "stdout",
     "output_type": "stream",
     "text": [
      "Ejecutado en: 26.608500003814697 segundos\n"
     ]
    }
   ],
   "source": [
    "print('Ejecutado en: ' + str(time.time() - start_time) + ' segundos')"
   ]
  },
  {
   "cell_type": "code",
   "execution_count": null,
   "metadata": {
    "collapsed": true
   },
   "outputs": [],
   "source": []
  }
 ],
 "metadata": {
  "kernelspec": {
   "display_name": "Python 3",
   "language": "python",
   "name": "python3"
  },
  "language_info": {
   "codemirror_mode": {
    "name": "ipython",
    "version": 3
   },
   "file_extension": ".py",
   "mimetype": "text/x-python",
   "name": "python",
   "nbconvert_exporter": "python",
   "pygments_lexer": "ipython3",
   "version": "3.6.0"
  }
 },
 "nbformat": 4,
 "nbformat_minor": 0
}
